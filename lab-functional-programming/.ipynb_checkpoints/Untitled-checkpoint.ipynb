{
 "cells": [
  {
   "cell_type": "code",
   "execution_count": 2,
   "metadata": {},
   "outputs": [
    {
     "name": "stdout",
     "output_type": "stream",
     "text": [
      "[(3, -9), (3, -5), (3, 8), (3, 9), (3, 10), (4, -9), (4, -5), (4, 8), (4, 9), (4, 10), (5, -9), (5, -5), (5, 8), (5, 9), (5, 10), (6, -9), (6, -5), (6, 8), (6, 9), (6, 10), (7, -9), (7, -5), (7, 8), (7, 9), (7, 10)]\n"
     ]
    }
   ],
   "source": [
    "Secuencia1= [3,4,5,6,7]\n",
    "Secuencia2= [-9,-5,8,9,10]\n",
    "coordenadas=[(x,y) for x in Secuencia1 for y in Secuencia2]\n",
    "print(coordenadas)\n",
    "    "
   ]
  },
  {
   "cell_type": "code",
   "execution_count": 39,
   "metadata": {},
   "outputs": [
    {
     "name": "stdout",
     "output_type": "stream",
     "text": [
      "[200.0, 1000.0, 1600.0, 6629.900000000001, 150.0, 750.0, 1200.0, 4972.425, 500.0, 2500.0, 4000.0, 16574.75, 400.0, 2000.0, 3200.0, 13259.800000000001, 120.0, 600.0, 960.0, 3977.94, 90.0, 450.0, 720.0, 2983.455, 300.0, 1500.0, 2400.0, 9944.85, 240.0, 1200.0, 1920.0, 7955.88, 248.0, 1240.0, 1984.0, 8221.076, 186.0, 930.0, 1488.0, 6165.807, 620.0, 3100.0, 4960.0, 20552.69, 496.0, 2480.0, 3968.0, 16442.152, 196.0, 980.0, 1568.0, 6497.302000000001, 147.0, 735.0, 1176.0, 4872.9765, 490.0, 2450.0, 3920.0, 16243.255, 392.0, 1960.0, 3136.0, 12994.604000000001]\n",
      "64\n",
      "200.0\n",
      "[200.0, 450.0, 4960.0, 12994.604000000001]\n",
      "[200.0, 450.0, 4960.0, 12994.604000000001]\n",
      "0\n",
      "1\n",
      "2\n",
      "3\n"
     ]
    }
   ],
   "source": [
    "PI=[.50,.3,.62,.49]\n",
    "SP=[.40,.30,1,.80]\n",
    "EI=[1000,5000,8000,33149.5]\n",
    "EPRC=[(x*y*z) for x in PI for y in SP for z in EI]\n",
    "print(EPRC)\n",
    "print(len(EPRC))\n",
    "\n",
    "def EPRC(x,y,z):\n",
    "    estimacion=x*y*z\n",
    "    return estimacion\n",
    "\n",
    "Credito1=EPRC(PI[0],SP[0],EI[0])\n",
    "print(Credito1)\n",
    "\n",
    "EPRC_Total=list(map(lambda x,y,z: x*y*z,PI,SP,EI)) #MAP CON LAMBDA\n",
    "print(EPRC_Total)\n",
    "\n",
    "EPRC_Total2=[PI[n]*SP[n]*EI[n] for n in range(len(PI))] #CON LIST COMPREHENSION\n",
    "print(EPRC_Total2)\n",
    "\n",
    "for n in range(len(PI)):\n",
    "    print(n)\n",
    "\n",
    "\n",
    "\n"
   ]
  },
  {
   "cell_type": "code",
   "execution_count": null,
   "metadata": {},
   "outputs": [],
   "source": []
  },
  {
   "cell_type": "code",
   "execution_count": null,
   "metadata": {},
   "outputs": [],
   "source": []
  },
  {
   "cell_type": "code",
   "execution_count": null,
   "metadata": {},
   "outputs": [],
   "source": []
  },
  {
   "cell_type": "code",
   "execution_count": null,
   "metadata": {},
   "outputs": [],
   "source": []
  }
 ],
 "metadata": {
  "kernelspec": {
   "display_name": "Python 3",
   "language": "python",
   "name": "python3"
  },
  "language_info": {
   "codemirror_mode": {
    "name": "ipython",
    "version": 3
   },
   "file_extension": ".py",
   "mimetype": "text/x-python",
   "name": "python",
   "nbconvert_exporter": "python",
   "pygments_lexer": "ipython3",
   "version": "3.7.4"
  }
 },
 "nbformat": 4,
 "nbformat_minor": 2
}
