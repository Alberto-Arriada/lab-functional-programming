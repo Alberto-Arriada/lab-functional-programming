{
 "cells": [
  {
   "cell_type": "code",
   "execution_count": null,
   "metadata": {},
   "outputs": [
    {
     "name": "stdout",
     "output_type": "stream",
     "text": [
      "\n",
      " ************************************************************************************** \n",
      " The meaning of the word that we are looking for is:\n",
      " \n",
      " to make something, especially somebody’s confidence or authority, gradually weaker or less effective \n",
      "\n",
      "['_', '_', '_', '_', '_', '_', '_', '_', '_'] Mistakes: 0 Remaining tries: 7 \n",
      "\n"
     ]
    }
   ],
   "source": [
    "import random\n",
    "from random import randint\n",
    "\n",
    "words = [\"AESTHETIC\",\"BURGEON\",\"CONTRIVE\",\"DELETERIOUS\",\"ELUCIDATE\",\"ENTRENCHED\",\"GAINSAY\",\"HERETIC\",\"LIONIZE\",\"MISCONSTRUE\",\"NUANCE\",\"PREVARICATE\",\"RESCIND\",\"UNDERMINE\",\"APEX\"]\n",
    "words_dict={\"AESTHETIC\":\"connected with beauty and art and the understanding of beautiful things\",\"BURGEON\":\"to begin to grow or develop rapidly\",\"CONTRIVE\":\"to manage to do something despite difficulties\",\"DELETERIOUS\":\"harmful and damaging\",\"ELUCIDATE\":\"​to make something clearer by explaining it more fully\",\"ENTRENCHED\":\"to establish something very strongly so that it is very difficult to change\",\"GAINSAY\":\"to say that something is not true; to disagree with or deny something\",\"HERETIC\":\"a person who believes in or practises religious heresy\",\"LIONIZE\":\"to treat somebody as a famous or important person\",\"MISCONSTRUE\":\"to understand somebody’s words or actions wrongly\",\"NUANCE\":\"a very slight difference in meaning, sound, colour or somebody’s feelings that is not usually very obvious\",\"PREVARICATE\":\"to avoid giving a direct answer to a question in order to hide the truth\",\"RESCIND\":\"to officially state that a law, contract, decision, etc. no longer has any legal force\",\"UNDERMINE\":\"to make something, especially somebody’s confidence or authority, gradually weaker or less effective\",\"APEX\":\"​the top or highest part of something\"}\n",
    "ramd = randint(0,15)\n",
    "word = list(words[ramd]) #convierte la palabra elegida en lista y es guardada en palabra\n",
    "numbers = [\"1\",\"2\",\"3\",\"4\",\"5\",\"6\",\"7\",\"8\",\"9\"]\n",
    "wordsc= words[ramd]\n",
    "repeat= []\n",
    "same = []\n",
    "guess = []\n",
    "mistakes=0\n",
    "goods=0\n",
    "\n",
    "for x in word:\n",
    "    guess.append(\"_\") #según el número de letras de la palabra se agrega un \"_\"\n",
    "    same.append(\"-\") #genera en la lista \"igual\" según el número de letras que tenga \"palabra\"\n",
    "\n",
    "play = True\n",
    "\n",
    "while play:\n",
    "\n",
    "    #loop del juego\n",
    "    print(\"\\n ************************************************************************************** \\n The meaning of the word that we are looking for is:\\n\",\"\\n\", words_dict[wordsc],\"\\n\")\n",
    "    print(guess, \"Mistakes: \" + str(mistakes), \"Remaining tries: \" + str(7-mistakes),\"\\n\")\n",
    "\n",
    "    player = input(\"Capture a letter: \").upper()\n",
    "\n",
    "    if len(player) > 1:\n",
    "        player = input(\"Capture a letter: \").upper() #si hay más de una letra se ejecuta este código\n",
    "\n",
    "    for z in repeat:\n",
    "        if player == z:\n",
    "            player = input(\"Capture a different letter: \").upper() #busca si la letra está repetida en la lista \"repetidas\"\n",
    "\n",
    "    if len(player) <1:\n",
    "        player = input(\"Capture a letter: \").upper() #si no se ingresa nada se ejecuta este código\n",
    "\n",
    "    for n in numbers:\n",
    "        if player == n:\n",
    "            player = input(\"Capture a letter: \").upper() #si hay un número en la entrada se ejecuta\n",
    "\n",
    "\n",
    "    for x in word:\n",
    "\n",
    "        if player == x:\n",
    "            guess[word.index(x)] = player\n",
    "            word[word.index(x)] = \"-\"\n",
    "            repeat.append(player)\n",
    "\n",
    "            if word == same:\n",
    "                print(\"You win!\")\n",
    "                play = False\n",
    "\n",
    "    if player not in wordsc:\n",
    "        mistakes+=1\n",
    "\n",
    "        if mistakes == 7:\n",
    "            print(\"\"\"\\nYou lose, try again!\n",
    "\n",
    "The word was: \"\"\"+ wordsc)\n",
    "            play = False\n",
    "\n",
    "\n",
    "\n"
   ]
  },
  {
   "cell_type": "code",
   "execution_count": null,
   "metadata": {},
   "outputs": [],
   "source": []
  }
 ],
 "metadata": {
  "kernelspec": {
   "display_name": "Python 3",
   "language": "python",
   "name": "python3"
  },
  "language_info": {
   "codemirror_mode": {
    "name": "ipython",
    "version": 3
   },
   "file_extension": ".py",
   "mimetype": "text/x-python",
   "name": "python",
   "nbconvert_exporter": "python",
   "pygments_lexer": "ipython3",
   "version": "3.7.4"
  }
 },
 "nbformat": 4,
 "nbformat_minor": 4
}
