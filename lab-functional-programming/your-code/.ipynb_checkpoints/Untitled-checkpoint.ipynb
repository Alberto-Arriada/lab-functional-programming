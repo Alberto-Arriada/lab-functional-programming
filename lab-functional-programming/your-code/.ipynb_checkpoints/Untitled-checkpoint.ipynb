{
 "cells": [
  {
   "cell_type": "code",
   "execution_count": null,
   "metadata": {},
   "outputs": [],
   "source": [
    "\"\"\"\n",
    "PROYECTO \"GREciano\", el objetivo del juego es aprender palabras que aparecen en el examen estandarizado\n",
    "Graduate Record Examinations (GRE).\n",
    "\n",
    "Plug: Después de una dura jornada Horacio, un antigüo griego, se acuesta plácidamente y sueña \n",
    "que está en un cuarto rodeado de gente sentada que mira fijamente una hoaja, él se encuentra en la\n",
    "misma situación, comienza a leer (milagrosamente) y ve que es una especie de examen, tiene que escoger.\n",
    "\n",
    "\n",
    "Desplegar: Juego de palabras, Juego de números primos\n",
    "\n",
    "------------Juego de palabras--------------\n",
    "Dos palabras por cada letra del abecedario con su significado y un ejemplo de su uso con un sinónimo.\n",
    "Gana el que acierte tres palabras seguidas.\n",
    "\n",
    "------------Juego de números primos-------------------------\n",
    "Se incluirán los números primeros que se encuentran del 1 al 100 y se tendrá que escoger 1 de 4 \n",
    "opciones, gana el que acierte tres veces consecutivas\n",
    "\n",
    "\n",
    "\n"
   ]
  }
 ],
 "metadata": {
  "kernelspec": {
   "display_name": "Python 3",
   "language": "python",
   "name": "python3"
  },
  "language_info": {
   "codemirror_mode": {
    "name": "ipython",
    "version": 3
   },
   "file_extension": ".py",
   "mimetype": "text/x-python",
   "name": "python",
   "nbconvert_exporter": "python",
   "pygments_lexer": "ipython3",
   "version": "3.7.4"
  }
 },
 "nbformat": 4,
 "nbformat_minor": 4
}
